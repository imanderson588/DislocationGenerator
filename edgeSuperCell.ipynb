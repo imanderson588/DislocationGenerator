{
 "cells": [
  {
   "cell_type": "code",
   "execution_count": 5,
   "id": "b5ae2524",
   "metadata": {},
   "outputs": [],
   "source": [
    "import ase\n",
    "from ase.io import read, write, lammpsdata\n",
    "from ase.build import make_supercell\n",
    "import numpy as np"
   ]
  },
  {
   "cell_type": "markdown",
   "id": "894110b2",
   "metadata": {},
   "source": []
  },
  {
   "cell_type": "code",
   "execution_count": 30,
   "id": "7b5c77a1",
   "metadata": {},
   "outputs": [],
   "source": [
    "#atoms = lammpsdata.read_lammps_data(\"/Users/iananderson/Documents/Documents/gradschool/TaC_Screw_Dislocations/core_structure.lmp\")\n",
    "atoms = read(\"/Users/iananderson/Documents/Documents/gradschool/TaC_Screw_Dislocations/POSCAR.vasp\", format='vasp')"
   ]
  },
  {
   "cell_type": "code",
   "execution_count": 33,
   "id": "212e7550",
   "metadata": {},
   "outputs": [],
   "source": [
    "transformation = np.array([\n",
    "    [2,   0.0, 0.0],\n",
    "    [12, 5, 4],\n",
    "    [0.0,  0.0, 2.0]\n",
    "])\n",
    "\n",
    "# Apply the transformation\n",
    "new_atoms = make_supercell(atoms, transformation)\n",
    "\n",
    "# Save to file for LAMMPS\n",
    "write(\"/Users/iananderson/Documents/Documents/gradschool/TaC_Screw_Dislocations/core_structure.lmp\", atoms, format='lammps-data')"
   ]
  },
  {
   "cell_type": "code",
   "execution_count": null,
   "id": "74af50fe",
   "metadata": {},
   "outputs": [],
   "source": []
  },
  {
   "cell_type": "markdown",
   "id": "7c7e2247",
   "metadata": {},
   "source": []
  }
 ],
 "metadata": {
  "kernelspec": {
   "display_name": "ComputationalMethods",
   "language": "python",
   "name": "python3"
  },
  "language_info": {
   "codemirror_mode": {
    "name": "ipython",
    "version": 3
   },
   "file_extension": ".py",
   "mimetype": "text/x-python",
   "name": "python",
   "nbconvert_exporter": "python",
   "pygments_lexer": "ipython3",
   "version": "3.10.14"
  }
 },
 "nbformat": 4,
 "nbformat_minor": 5
}

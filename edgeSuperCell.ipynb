{
 "cells": [
  {
   "cell_type": "code",
   "execution_count": 1,
   "id": "b5ae2524",
   "metadata": {},
   "outputs": [],
   "source": [
    "import ase\n",
    "from ase.io import read, write, lammpsdata\n",
    "from ase.build import make_supercell\n",
    "import numpy as np\n"
   ]
  },
  {
   "cell_type": "code",
   "execution_count": 4,
   "id": "07b7516e",
   "metadata": {},
   "outputs": [],
   "source": [
    "atoms = lammpsdata.read_lammps_data(\"/Users/iananderson/Documents/Documents/gradschool/TaC_Screw_Dislocations/EdgeDipole.lmp\")"
   ]
  },
  {
   "cell_type": "markdown",
   "id": "894110b2",
   "metadata": {},
   "source": []
  },
  {
   "cell_type": "code",
   "execution_count": null,
   "id": "7b5c77a1",
   "metadata": {},
   "outputs": [
    {
     "ename": "FileNotFoundError",
     "evalue": "[Errno 2] No such file or directory: '/home/iananderson/Documents/GradSchool/TaC_PeierlsStress/modified.lmp'",
     "output_type": "error",
     "traceback": [
      "\u001b[0;31m---------------------------------------------------------------------------\u001b[0m",
      "\u001b[0;31mFileNotFoundError\u001b[0m                         Traceback (most recent call last)",
      "Cell \u001b[0;32mIn[3], line 1\u001b[0m\n\u001b[0;32m----> 1\u001b[0m atoms \u001b[38;5;241m=\u001b[39m \u001b[43mlammpsdata\u001b[49m\u001b[38;5;241;43m.\u001b[39;49m\u001b[43mread_lammps_data\u001b[49m\u001b[43m(\u001b[49m\u001b[38;5;124;43m\"\u001b[39;49m\u001b[38;5;124;43m/home/iananderson/Documents/GradSchool/TaC_PeierlsStress/modified.lmp\u001b[39;49m\u001b[38;5;124;43m\"\u001b[39;49m\u001b[43m)\u001b[49m\n",
      "File \u001b[0;32m~/opt/anaconda3/envs/ComputationalMethods/lib/python3.10/site-packages/ase/utils/__init__.py:574\u001b[0m, in \u001b[0;36miofunction.__call__.<locals>.iofunc\u001b[0;34m(file, *args, **kwargs)\u001b[0m\n\u001b[1;32m    572\u001b[0m \u001b[38;5;28;01mtry\u001b[39;00m:\n\u001b[1;32m    573\u001b[0m     \u001b[38;5;28;01mif\u001b[39;00m openandclose:\n\u001b[0;32m--> 574\u001b[0m         fd \u001b[38;5;241m=\u001b[39m \u001b[38;5;28;43mopen\u001b[39;49m\u001b[43m(\u001b[49m\u001b[38;5;28;43mstr\u001b[39;49m\u001b[43m(\u001b[49m\u001b[43mfile\u001b[49m\u001b[43m)\u001b[49m\u001b[43m,\u001b[49m\u001b[43m \u001b[49m\u001b[38;5;28;43mself\u001b[39;49m\u001b[38;5;241;43m.\u001b[39;49m\u001b[43mmode\u001b[49m\u001b[43m)\u001b[49m\n\u001b[1;32m    575\u001b[0m     \u001b[38;5;28;01melse\u001b[39;00m:\n\u001b[1;32m    576\u001b[0m         fd \u001b[38;5;241m=\u001b[39m file\n",
      "\u001b[0;31mFileNotFoundError\u001b[0m: [Errno 2] No such file or directory: '/home/iananderson/Documents/GradSchool/TaC_PeierlsStress/modified.lmp'"
     ]
    }
   ],
   "source": [
    "atoms = lammpsdata.read_lammps_data()\n",
    "#atoms = read(\"/Users/iananderson/Downloads/CONTCAR\", format='vasp')"
   ]
  },
  {
   "cell_type": "code",
   "execution_count": 5,
   "id": "212e7550",
   "metadata": {},
   "outputs": [],
   "source": [
    "transformation = np.array([\n",
    "    [2,   0.0, 0.0],\n",
    "    [12, 5, 4],\n",
    "    [0.0,  0.0, 2.0]\n",
    "])\n",
    "\n",
    "# Apply the transformation\n",
    "new_atoms = make_supercell(atoms, transformation)\n",
    "\n",
    "# Save to file for LAMMPS\n",
    "write(\"/Users/iananderson/Documents/Documents/gradschool/TaC_Screw_Dislocations/POSCAR\", atoms, format='vasp')"
   ]
  }
 ],
 "metadata": {
  "kernelspec": {
   "display_name": "ComputationalMethods",
   "language": "python",
   "name": "python3"
  },
  "language_info": {
   "codemirror_mode": {
    "name": "ipython",
    "version": 3
   },
   "file_extension": ".py",
   "mimetype": "text/x-python",
   "name": "python",
   "nbconvert_exporter": "python",
   "pygments_lexer": "ipython3",
   "version": "3.10.14"
  }
 },
 "nbformat": 4,
 "nbformat_minor": 5
}

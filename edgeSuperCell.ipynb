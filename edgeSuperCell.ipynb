{
 "cells": [
  {
   "cell_type": "code",
   "execution_count": 4,
   "id": "b5ae2524",
   "metadata": {},
   "outputs": [],
   "source": [
    "import ase\n",
    "from ase.io import read, write, lammpsdata\n",
    "from ase.build import make_supercell\n",
    "import numpy as np"
   ]
  },
  {
   "cell_type": "markdown",
   "id": "894110b2",
   "metadata": {},
   "source": []
  },
  {
   "cell_type": "code",
   "execution_count": 5,
   "id": "7b5c77a1",
   "metadata": {},
   "outputs": [],
   "source": [
    "#atoms = lammpsdata.read_lammps_data(\"/Users/iananderson/Documents/Documents/gradschool/TaC_Screw_Dislocations/modified.lmp\")\n",
    "atoms = read(\"/Users/iananderson/Downloads/CONTCAR\", format='vasp')"
   ]
  },
  {
   "cell_type": "code",
   "execution_count": 6,
   "id": "212e7550",
   "metadata": {},
   "outputs": [],
   "source": [
    "transformation = np.array([\n",
    "    [2,   0.0, 0.0],\n",
    "    [12, 5, 4],\n",
    "    [0.0,  0.0, 2.0]\n",
    "])\n",
    "\n",
    "# Apply the transformation\n",
    "new_atoms = make_supercell(atoms, transformation)\n",
    "\n",
    "# Save to file for LAMMPS\n",
    "write(\"/Users/iananderson/Documents/Documents/gradschool/TaC_Screw_Dislocations/vasp.out\", atoms, format='lammps-data')"
   ]
  },
  {
   "cell_type": "code",
   "execution_count": 25,
   "id": "74af50fe",
   "metadata": {},
   "outputs": [],
   "source": [
    "def calculateTiltFactor(B, C, gamma, beta):\n",
    "    b_mag = 4.455*np.linalg.norm(B)\n",
    "    print(b_mag)\n",
    "    c_mag = 4.455*np.linalg.norm(C)\n",
    "    bx = b_mag*np.cos(np.deg2rad(gamma))\n",
    "    by = b_mag*np.sin(np.deg2rad(gamma))\n",
    "    cx = c_mag*np.cos(np.deg2rad(beta))\n",
    "    cy = (np.dot(B, C)-bx*cx)/by\n",
    "    cz = np.sqrt(c_mag**2-cx**2-cy**2)\n",
    "    return bx, by, cx, cy, cz\n",
    "\n",
    "\n"
   ]
  },
  {
   "cell_type": "code",
   "execution_count": 7,
   "id": "e1bb76da",
   "metadata": {},
   "outputs": [],
   "source": [
    "def edge_dislocation_strain(x, y, x1, y1, x2, y2, burgers, nu):\n",
    "    \"\"\"\n",
    "    Calculates the strain tensor components from an edge dislocation dipole in 2D.\n",
    "    \n",
    "    Parameters\n",
    "    ----------\n",
    "    x, y : float or ndarray\n",
    "        Coordinates at which to evaluate the strain field.\n",
    "    x1, y1 : float\n",
    "        Position of the positive dislocation.\n",
    "    x2, y2 : float\n",
    "        Position of the negative dislocation.\n",
    "    burgers : float\n",
    "        Magnitude of Burgers vector (assumed in x-direction).\n",
    "    nu : float\n",
    "        Poisson's ratio.\n",
    "    \n",
    "    Returns\n",
    "    -------\n",
    "    exx, eyy, exy : float or ndarray\n",
    "        Strain tensor components at each (x, y).\n",
    "    \"\"\"\n",
    "    def single_dislocation_strain(x, y, x0, y0, b, nu):\n",
    "        X = x - x0\n",
    "        Y = y - y0\n",
    "        r2 = X**2 + Y**2\n",
    "        r4 = r2**2\n",
    "        pre = b / (4 * np.pi * (1 - nu))\n",
    "        \n",
    "        # strain components from classical elasticity\n",
    "        exx = -pre * ( (Y * (3 * X**2 + Y**2)) / r4 )\n",
    "        eyy =  pre * ( (Y * (X**2 - Y**2)) / r4 )\n",
    "        exy =  pre * ( (X * (X**2 - Y**2)) / r4 )\n",
    "        \n",
    "        return exx, eyy, exy\n",
    "\n",
    "    # strain from positive dislocation\n",
    "    exx1, eyy1, exy1 = single_dislocation_strain(x, y, x1, y1, burgers, nu)\n",
    "    # strain from negative dislocation (same magnitude, opposite sign)\n",
    "    exx2, eyy2, exy2 = single_dislocation_strain(x, y, x2, y2, -burgers, nu)\n",
    "\n",
    "    # superpose the two fields\n",
    "    exx = exx1 + exx2\n",
    "    eyy = eyy1 + eyy2\n",
    "    exy = exy1 + exy2\n",
    "\n",
    "    return exx, eyy, exy"
   ]
  },
  {
   "cell_type": "code",
   "execution_count": 8,
   "id": "e4e4daf0",
   "metadata": {},
   "outputs": [
    {
     "data": {
      "text/plain": [
       "(0.021286430409980545, -0.0004513333531326346, 0.004811104506074328)"
      ]
     },
     "execution_count": 8,
     "metadata": {},
     "output_type": "execute_result"
    }
   ],
   "source": [
    "edge_dislocation_strain(15.8,7.74,-5.51,0,5.52,0,3.14,0.24)"
   ]
  },
  {
   "cell_type": "code",
   "execution_count": null,
   "id": "e12858f0",
   "metadata": {},
   "outputs": [],
   "source": []
  }
 ],
 "metadata": {
  "kernelspec": {
   "display_name": "ComputationalMethods",
   "language": "python",
   "name": "python3"
  },
  "language_info": {
   "codemirror_mode": {
    "name": "ipython",
    "version": 3
   },
   "file_extension": ".py",
   "mimetype": "text/x-python",
   "name": "python",
   "nbconvert_exporter": "python",
   "pygments_lexer": "ipython3",
   "version": "3.10.14"
  }
 },
 "nbformat": 4,
 "nbformat_minor": 5
}
